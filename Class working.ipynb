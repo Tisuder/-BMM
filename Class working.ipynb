{
 "cells": [
  {
   "cell_type": "code",
   "execution_count": 119,
   "id": "a7c7ad74",
   "metadata": {},
   "outputs": [],
   "source": [
    "import torch\n",
    "import numpy as np"
   ]
  },
  {
   "cell_type": "code",
   "execution_count": 20,
   "id": "4c8bdf6d",
   "metadata": {},
   "outputs": [
    {
     "data": {
      "text/plain": [
       "1425"
      ]
     },
     "execution_count": 20,
     "metadata": {},
     "output_type": "execute_result"
    }
   ],
   "source": [
    "class Bebra():\n",
    "    bebra_size = 21\n",
    "    \n",
    "    def __init__(self, depth, wide):\n",
    "        self.depth = depth\n",
    "        self.wide = wide\n",
    "\n",
    "stas = Bebra(12,31)\n",
    "stas.depth = 1425\n",
    "stas.depth"
   ]
  },
  {
   "cell_type": "code",
   "execution_count": 35,
   "id": "24f6deb7",
   "metadata": {},
   "outputs": [],
   "source": [
    "class Rectangle:\n",
    "\n",
    "    def __init__(self, width, height):\n",
    "        self.__width = width\n",
    "        self.__height = height\n",
    "\n",
    "    @property\n",
    "    def width(self):\n",
    "        return self.__width\n",
    "\n",
    "    @width.setter\n",
    "    def width(self, w):\n",
    "        if w > 0:\n",
    "            self.__width = w\n",
    "        else:\n",
    "            raise ValueError\n",
    "\n",
    "    @property\n",
    "    def height(self):\n",
    "        return self.__height\n",
    "\n",
    "    @height.setter\n",
    "    def height(self, h):\n",
    "        if h > 0:\n",
    "            self.__height = h\n",
    "        else:\n",
    "            raise ValueError\n",
    "\n",
    "    def area(self):\n",
    "        return self.__width * self.__height"
   ]
  },
  {
   "cell_type": "code",
   "execution_count": 36,
   "id": "8bade7b0",
   "metadata": {},
   "outputs": [],
   "source": [
    "rect = Rectangle(43, 54)"
   ]
  },
  {
   "cell_type": "code",
   "execution_count": 37,
   "id": "a212448a",
   "metadata": {},
   "outputs": [],
   "source": [
    "rect.height = 3"
   ]
  },
  {
   "cell_type": "code",
   "execution_count": 38,
   "id": "29075f1b",
   "metadata": {},
   "outputs": [
    {
     "data": {
      "text/plain": [
       "3"
      ]
     },
     "execution_count": 38,
     "metadata": {},
     "output_type": "execute_result"
    }
   ],
   "source": [
    "rect.height"
   ]
  },
  {
   "cell_type": "code",
   "execution_count": 106,
   "id": "4fd06bc1",
   "metadata": {},
   "outputs": [
    {
     "name": "stdout",
     "output_type": "stream",
     "text": [
      "['5435, 6,767i']\n",
      "([1, 4, 5, 6], [4, 6, 6, 68, 9])\n",
      "{}\n"
     ]
    }
   ],
   "source": [
    "def F(name, *args, **kwds):\n",
    "    print(name)\n",
    "    print(args)\n",
    "    print(kwds)\n",
    "F([\"5435, 6,767i\"], [1,4,5,6],[4,6,6,68,9,])"
   ]
  },
  {
   "cell_type": "code",
   "execution_count": 55,
   "id": "88fba6ae",
   "metadata": {},
   "outputs": [
    {
     "data": {
      "text/plain": [
       "['__class__',\n",
       " '__delattr__',\n",
       " '__dict__',\n",
       " '__dir__',\n",
       " '__doc__',\n",
       " '__eq__',\n",
       " '__format__',\n",
       " '__ge__',\n",
       " '__getattribute__',\n",
       " '__gt__',\n",
       " '__hash__',\n",
       " '__init__',\n",
       " '__init_subclass__',\n",
       " '__le__',\n",
       " '__lt__',\n",
       " '__module__',\n",
       " '__ne__',\n",
       " '__new__',\n",
       " '__reduce__',\n",
       " '__reduce_ex__',\n",
       " '__repr__',\n",
       " '__setattr__',\n",
       " '__sizeof__',\n",
       " '__str__',\n",
       " '__subclasshook__',\n",
       " '__weakref__',\n",
       " 'area',\n",
       " 'height',\n",
       " 'width']"
      ]
     },
     "execution_count": 55,
     "metadata": {},
     "output_type": "execute_result"
    }
   ],
   "source": [
    "dir(Rectangle)"
   ]
  },
  {
   "cell_type": "code",
   "execution_count": 56,
   "id": "12db8967",
   "metadata": {},
   "outputs": [
    {
     "name": "stdout",
     "output_type": "stream",
     "text": [
      "car braking\n",
      "I'm driving a blue car!\n",
      "I'm driving a red truck!\n",
      "truck braking\n"
     ]
    }
   ],
   "source": [
    "class Vehicle(object):\n",
    "    \"\"\"docstring\"\"\"\n",
    "    \n",
    "    def __init__(self, color, doors, tires, vtype):\n",
    "        \"\"\"Constructor\"\"\"\n",
    "        self.color = color\n",
    "        self.doors = doors\n",
    "        self.tires = tires\n",
    "        self.vtype = vtype\n",
    "    \n",
    "    def brake(self):\n",
    "        \"\"\"\n",
    "        Stop the car\n",
    "        \"\"\"\n",
    "        return \"%s braking\" % self.vtype\n",
    "    \n",
    "    def drive(self):\n",
    "        \"\"\"\n",
    "        Drive the car\n",
    "        \"\"\"\n",
    "        return \"I'm driving a %s %s!\" % (self.color, self.vtype)\n",
    "\n",
    "\n",
    "if __name__ == \"__main__\":\n",
    "    car = Vehicle(\"blue\", 5, 4, \"car\")\n",
    "    print(car.brake())\n",
    "    print(car.drive())\n",
    "\n",
    "    truck = Vehicle(\"red\", 3, 6, \"truck\")\n",
    "    print(truck.drive())\n",
    "    print(truck.brake())"
   ]
  },
  {
   "cell_type": "code",
   "execution_count": 94,
   "id": "dc521020",
   "metadata": {},
   "outputs": [],
   "source": [
    "class zhiga(Vehicle):\n",
    "    def __init__(self,  color, doors, tires, vtype, tonir=\"Black\"):\n",
    "        super().__init__(color, doors, tires, vtype)\n",
    "        self._tonir = tonir\n",
    "        \n",
    "    def drive(self):\n",
    "        print(super().drive())\n",
    "        return \"Tonirovka %s\" % (self._tonir) + \" no one Stop MEE\"\n",
    "v9 = zhiga(\"blue\", 5, 4, \"car\", \"white\")"
   ]
  },
  {
   "cell_type": "code",
   "execution_count": 95,
   "id": "1aac2e73",
   "metadata": {},
   "outputs": [
    {
     "name": "stdout",
     "output_type": "stream",
     "text": [
      "I'm driving a blue car!\n",
      "Tonirovka white no one Stop MEE\n"
     ]
    }
   ],
   "source": [
    "print(v9.drive())"
   ]
  },
  {
   "cell_type": "code",
   "execution_count": 102,
   "id": "f19ccf66",
   "metadata": {},
   "outputs": [
    {
     "name": "stdout",
     "output_type": "stream",
     "text": [
      "Initializing: class X\n",
      "Initializing: class B\n",
      "Initializing: class A\n",
      "sub_method from class X: 1\n",
      "sub_method from class B: 2\n",
      "sub_method from class A: 3\n",
      "Обратите внимание как происходит инициализация\n",
      "классов при указании аргументов в функции super()\n",
      "Initializing: class Y\n",
      "Initializing: class A\n",
      "sub_method from class Y: 5\n",
      "sub_method from class X: 6\n",
      "sub_method from class B: 7\n",
      "sub_method from class A: 8\n"
     ]
    }
   ],
   "source": [
    "class A:\n",
    "    def __init__(self):\n",
    "        print('Initializing: class A')\n",
    "\n",
    "    def sub_method(self, b):\n",
    "        print('sub_method from class A:', b)\n",
    "\n",
    "\n",
    "class B(A):\n",
    "    def __init__(self):\n",
    "        print('Initializing: class B')\n",
    "        super().__init__()\n",
    "\n",
    "    def sub_method(self, b):\n",
    "        print('sub_method from class B:', b)\n",
    "        super().sub_method(b + 1)\n",
    "\n",
    "class X(B):\n",
    "    def __init__(self):\n",
    "        print('Initializing: class X')\n",
    "        super().__init__()\n",
    "\n",
    "    def sub_method(self, b):\n",
    "        print('sub_method from class X:', b)\n",
    "        super().sub_method(b + 1)\n",
    "\n",
    "\n",
    "class Y(X):\n",
    "    def __init__(self):\n",
    "        print('Initializing: class Y')\n",
    "        # super() с параметрами\n",
    "        super(B, self).__init__()\n",
    "\n",
    "    def sub_method(self, b):\n",
    "        print('sub_method from class Y:', b)\n",
    "        super().sub_method(b + 1)\n",
    "\n",
    "\n",
    "x = X()\n",
    "x.sub_method(1)\n",
    "print('Обратите внимание как происходит инициализация')\n",
    "print('классов при указании аргументов в функции super()')\n",
    "y = Y()\n",
    "y.sub_method(5)"
   ]
  },
  {
   "cell_type": "code",
   "execution_count": 131,
   "id": "9a2e53cc",
   "metadata": {},
   "outputs": [
    {
     "name": "stdout",
     "output_type": "stream",
     "text": [
      "tensor([[1.0000e-04, 1.0000e-04],\n",
      "        [0.0000e+00, 0.0000e+00],\n",
      "        [0.0000e+00, 1.0000e-04],\n",
      "        [1.0000e-04, 1.0000e-04]])\n",
      "Ones Tensor: \n",
      " tensor([[1., 1.],\n",
      "        [1., 1.],\n",
      "        [1., 1.],\n",
      "        [1., 1.]]) \n",
      "\n",
      "Random Tensor: \n",
      " tensor([[0.9584, 0.3743],\n",
      "        [0.2218, 0.4555],\n",
      "        [0.4759, 0.2861],\n",
      "        [0.2183, 0.6273]]) \n",
      "\n"
     ]
    }
   ],
   "source": [
    "x_data = [[1,1], [0,0], [0,1],[1,1]]\n",
    "x_data = torch.tensor(x_data)\n",
    "x_data.type(torch.float)\n",
    "\n",
    "print((x_data/10000))\n",
    "x_ones = torch.ones_like(x_data, dtype=torch.float)# retains the properties of x_data\n",
    "print(f\"Ones Tensor: \\n {x_ones} \\n\")\n",
    "x_rand = torch.rand_like(x_data, dtype=torch.float) # overrides the datatype of x_data\n",
    "print(f\"Random Tensor: \\n {x_rand} \\n\")"
   ]
  },
  {
   "cell_type": "code",
   "execution_count": null,
   "id": "b2074bb3",
   "metadata": {},
   "outputs": [],
   "source": []
  }
 ],
 "metadata": {
  "kernelspec": {
   "display_name": "Python 3 (ipykernel)",
   "language": "python",
   "name": "python3"
  },
  "language_info": {
   "codemirror_mode": {
    "name": "ipython",
    "version": 3
   },
   "file_extension": ".py",
   "mimetype": "text/x-python",
   "name": "python",
   "nbconvert_exporter": "python",
   "pygments_lexer": "ipython3",
   "version": "3.9.13"
  }
 },
 "nbformat": 4,
 "nbformat_minor": 5
}
