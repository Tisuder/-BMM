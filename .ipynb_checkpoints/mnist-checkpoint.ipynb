{
 "cells": [
  {
   "cell_type": "code",
   "execution_count": 1,
   "id": "57e2b1b6",
   "metadata": {},
   "outputs": [],
   "source": [
    "import torch\n",
    "import torch.nn as nn\n",
    "import torchvision\n",
    "import torchvision.transforms as transforms \n",
    "import matplotlib.pyplot as plt\n",
    "import pandas as pd\n",
    "from PIL import Image\n",
    "import numpy as np\n",
    "from torch.utils.data import Dataset, DataLoader\n",
    "import os    \n",
    "os.environ['KMP_DUPLICATE_LIB_OK'] = 'True'"
   ]
  },
  {
   "cell_type": "code",
   "execution_count": 2,
   "id": "54b3c6ea",
   "metadata": {},
   "outputs": [],
   "source": [
    "im_frame = Image.open('mnist_png/training/0/1.png')\n",
    "np_frame = np.array(im_frame.getdata())"
   ]
  },
  {
   "cell_type": "code",
   "execution_count": 3,
   "id": "7a450372",
   "metadata": {},
   "outputs": [
    {
     "data": {
      "image/png": "[encoded data removed]",
      "text/plain": [
       "<Figure size 640x480 with 1 Axes>"
      ]
     },
     "metadata": {},
     "output_type": "display_data"
    }
   ],
   "source": [
    "plt.imshow(np_frame.reshape(28, 28))\n",
    "plt.show()"
   ]
  },
  {
   "cell_type": "markdown",
   "id": "68ddf153",
   "metadata": {},
   "source": [
    "# Считаем по 100 элементов каждого класса и создадим датасет"
   ]
  },
  {
   "cell_type": "code",
   "execution_count": 50,
   "id": "9b4ee571",
   "metadata": {},
   "outputs": [],
   "source": [
    "data = []\n",
    "numbers = os.listdir('mnist_png/training')\n",
    "for number in numbers:\n",
    "    names = os.listdir('mnist_png/training/' + number)[:100]\n",
    "    for name in names:\n",
    "        im_frame = Image.open(f'mnist_png/training/{number}/{name}')\n",
    "        np_frame = np.array(im_frame.getdata())\n",
    "        data.append(np_frame)\n",
    "        \n",
    "data = np.array(data)"
   ]
  },
  {
   "cell_type": "code",
   "execution_count": 7,
   "id": "0ed54d6f",
   "metadata": {},
   "outputs": [
    {
     "data": {
      "text/plain": [
       "['.ipynb_checkpoints',\n",
       " '1lesson.ipynb',\n",
       " '1lesson.pptx',\n",
       " 'mnist_png',\n",
       " 'mnist_png.rar',\n",
       " 'Описание.docx',\n",
       " 'Презентация.docx']"
      ]
     },
     "execution_count": 7,
     "metadata": {},
     "output_type": "execute_result"
    }
   ],
   "source": [
    "import os\n",
    "os.listdir()"
   ]
  },
  {
   "cell_type": "code",
   "execution_count": 88,
   "id": "115db382",
   "metadata": {},
   "outputs": [],
   "source": [
    "class Dataset(Dataset):\n",
    "    def __init__(self, data):\n",
    "        self.data = torch.tensor(data/255).type(torch.float)\n",
    "        \n",
    "        labels = []\n",
    "        for i in range(10):\n",
    "            for j in range(int(len(data)/10)):\n",
    "                labels.append(i)\n",
    "        self.labels = labels\n",
    "    \n",
    "    def __getitem__(self, idx):\n",
    "        return self.data[idx], self.labels[idx]\n",
    "    \n",
    "    def __len__(self):\n",
    "        return len(self.data)"
   ]
  },
  {
   "cell_type": "code",
   "execution_count": 89,
   "id": "17b34ab9",
   "metadata": {},
   "outputs": [],
   "source": [
    "dataset = Dataset(data)\n",
    "dataloader = DataLoader(dataset, shuffle=True, batch_size = 16)"
   ]
  },
  {
   "cell_type": "code",
   "execution_count": 90,
   "id": "1b52bdf5",
   "metadata": {},
   "outputs": [
    {
     "name": "stdout",
     "output_type": "stream",
     "text": [
      "Samples shape:  torch.Size([16, 784])\n",
      "Labels shape:  torch.Size([16])\n"
     ]
    }
   ],
   "source": [
    "samples, labels = next(iter(dataloader))\n",
    "\n",
    "print('Samples shape: ', samples.shape)\n",
    "print('Labels shape: ', labels.shape)"
   ]
  },
  {
   "cell_type": "markdown",
   "id": "b697ce9e",
   "metadata": {},
   "source": [
    "# Создадим нейросеть"
   ]
  },
  {
   "cell_type": "code",
   "execution_count": 91,
   "id": "ee77f23c",
   "metadata": {},
   "outputs": [],
   "source": [
    "class Model(nn.Module):\n",
    "    def __init__(self):\n",
    "        super(Model, self).__init__()\n",
    "        self.l1 = nn.Linear(28*28, 256)\n",
    "        self.l2 = nn.Linear(256, 10)\n",
    "        self.relu = nn.ReLU()\n",
    "    \n",
    "    def forward(self, x):\n",
    "        x = self.relu(self.l1(x))\n",
    "        x = self.l2(x)\n",
    "        return x"
   ]
  },
  {
   "cell_type": "code",
   "execution_count": 92,
   "id": "7fde74d7",
   "metadata": {},
   "outputs": [],
   "source": [
    "model = Model()"
   ]
  },
  {
   "cell_type": "markdown",
   "id": "adca1a48",
   "metadata": {},
   "source": [
    "# Loss функция и оптимизатор"
   ]
  },
  {
   "cell_type": "code",
   "execution_count": 93,
   "id": "09dd68b3",
   "metadata": {},
   "outputs": [],
   "source": [
    "criterion = nn.CrossEntropyLoss()\n",
    "optimizer = torch.optim.Adam(model.parameters(), lr=0.001)"
   ]
  },
  {
   "cell_type": "markdown",
   "id": "00c9bf4c",
   "metadata": {},
   "source": [
    "# Обучение"
   ]
  },
  {
   "cell_type": "code",
   "execution_count": 94,
   "id": "65139c8c",
   "metadata": {},
   "outputs": [
    {
     "name": "stdout",
     "output_type": "stream",
     "text": [
      "Epoch: 1, loss: 0.4741691052913666\n",
      "Epoch: 2, loss: 0.27657681703567505\n",
      "Epoch: 3, loss: 0.5539609789848328\n",
      "Epoch: 4, loss: 0.2787523865699768\n",
      "Epoch: 5, loss: 0.05447966605424881\n",
      "Epoch: 6, loss: 0.4384564757347107\n",
      "Epoch: 7, loss: 0.01271047443151474\n",
      "Epoch: 8, loss: 0.21769943833351135\n",
      "Epoch: 9, loss: 0.08131800591945648\n",
      "Epoch: 10, loss: 0.021738363429903984\n"
     ]
    }
   ],
   "source": [
    "num_epochs = 10\n",
    "for epoch in range(num_epochs):\n",
    "    for samples, labels in dataloader:\n",
    "        pred = model(samples)\n",
    "        loss = criterion(pred, labels)\n",
    "        \n",
    "        loss.backward()\n",
    "        optimizer.step()\n",
    "        \n",
    "        optimizer.zero_grad()\n",
    "        \n",
    "    print(f'Epoch: {epoch+1}, loss: {loss}')"
   ]
  },
  {
   "cell_type": "markdown",
   "id": "19ca3a7a",
   "metadata": {},
   "source": [
    "# Протестим"
   ]
  },
  {
   "cell_type": "code",
   "execution_count": 114,
   "id": "e58b5862",
   "metadata": {},
   "outputs": [],
   "source": [
    "test = []\n",
    "numbers = os.listdir('mnist_png/testing')\n",
    "for number in numbers:\n",
    "    names = os.listdir('mnist_png/testing/' + number)[:10]\n",
    "    for name in names:\n",
    "        im_frame = Image.open(f'mnist_png/testing/{number}/{name}')\n",
    "        np_frame = np.array(im_frame.getdata())\n",
    "        test.append(np_frame)\n",
    "        \n",
    "test = np.array(test)"
   ]
  },
  {
   "cell_type": "code",
   "execution_count": 115,
   "id": "073eb1ee",
   "metadata": {},
   "outputs": [],
   "source": [
    "dataset_test = Dataset(test)\n",
    "dataloader_test = DataLoader(dataset_test, shuffle=True, batch_size = 1)"
   ]
  },
  {
   "cell_type": "code",
   "execution_count": 116,
   "id": "6cd8d2dc",
   "metadata": {},
   "outputs": [],
   "source": [
    "_, c = torch.max(model(next(iter(dataloader_test))[0]), 1)"
   ]
  },
  {
   "cell_type": "code",
   "execution_count": 117,
   "id": "7c244262",
   "metadata": {},
   "outputs": [
    {
     "name": "stdout",
     "output_type": "stream",
     "text": [
      "accuracy =  0.9\n"
     ]
    }
   ],
   "source": [
    "n_correct = 0\n",
    "for sample, label in dataloader_test:\n",
    "    pred = model(sample)\n",
    "    _, c = torch.max(pred, 1)\n",
    "    if(c.item() == label.item()):\n",
    "        n_correct += 1\n",
    "        \n",
    "print('accuracy = ', n_correct / 100)"
   ]
  },
  {
   "cell_type": "code",
   "execution_count": 140,
   "id": "c7a9a01c",
   "metadata": {},
   "outputs": [],
   "source": [
    "def check(idx):\n",
    "    plt.imshow(test[idx].reshape(28, 28))\n",
    "    plt.show()\n",
    "    \n",
    "    sample = torch.tensor(test[idx]/255).type(torch.float).unsqueeze(0)\n",
    "    _, c = torch.max(model(sample), 1)\n",
    "    print('number is: ', c.item())"
   ]
  },
  {
   "cell_type": "code",
   "execution_count": 144,
   "id": "6cf9add6",
   "metadata": {},
   "outputs": [
    {
     "data": {
      "image/png": "[encoded data removed]",
      "text/plain": [
       "<Figure size 640x480 with 1 Axes>"
      ]
     },
     "metadata": {},
     "output_type": "display_data"
    },
    {
     "name": "stdout",
     "output_type": "stream",
     "text": [
      "number is:  0\n"
     ]
    }
   ],
   "source": [
    "check(5)"
   ]
  },
  {
   "cell_type": "code",
   "execution_count": null,
   "id": "939982a9",
   "metadata": {},
   "outputs": [],
   "source": []
  }
 ],
 "metadata": {
  "kernelspec": {
   "display_name": "Python 3 (ipykernel)",
   "language": "python",
   "name": "python3"
  },
  "language_info": {
   "codemirror_mode": {
    "name": "ipython",
    "version": 3
   },
   "file_extension": ".py",
   "mimetype": "text/x-python",
   "name": "python",
   "nbconvert_exporter": "python",
   "pygments_lexer": "ipython3",
   "version": "3.9.0"
  }
 },
 "nbformat": 4,
 "nbformat_minor": 5
}
