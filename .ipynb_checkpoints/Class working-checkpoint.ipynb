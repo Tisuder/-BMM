{
 "cells": [
  {
   "cell_type": "code",
   "execution_count": 20,
   "id": "4c8bdf6d",
   "metadata": {},
   "outputs": [
    {
     "data": {
      "text/plain": [
       "1425"
      ]
     },
     "execution_count": 20,
     "metadata": {},
     "output_type": "execute_result"
    }
   ],
   "source": [
    "class Bebra():\n",
    "    bebra_size = 21\n",
    "    \n",
    "    def __init__(self, depth, wide):\n",
    "        self.depth = depth\n",
    "        self.wide = wide\n",
    "\n",
    "stas = Bebra(12,31)\n",
    "stas.depth = 1425\n",
    "stas.depth"
   ]
  },
  {
   "cell_type": "code",
   "execution_count": 35,
   "id": "24f6deb7",
   "metadata": {},
   "outputs": [],
   "source": [
    "class Rectangle:\n",
    "\n",
    "    def __init__(self, width, height):\n",
    "        self.__width = width\n",
    "        self.__height = height\n",
    "\n",
    "    @property\n",
    "    def width(self):\n",
    "        return self.__width\n",
    "\n",
    "    @width.setter\n",
    "    def width(self, w):\n",
    "        if w > 0:\n",
    "            self.__width = w\n",
    "        else:\n",
    "            raise ValueError\n",
    "\n",
    "    @property\n",
    "    def height(self):\n",
    "        return self.__height\n",
    "\n",
    "    @height.setter\n",
    "    def height(self, h):\n",
    "        if h > 0:\n",
    "            self.__height = h\n",
    "        else:\n",
    "            raise ValueError\n",
    "\n",
    "    def area(self):\n",
    "        return self.__width * self.__height"
   ]
  },
  {
   "cell_type": "code",
   "execution_count": 36,
   "id": "8bade7b0",
   "metadata": {},
   "outputs": [],
   "source": [
    "rect = Rectangle(43, 54)"
   ]
  },
  {
   "cell_type": "code",
   "execution_count": 37,
   "id": "a212448a",
   "metadata": {},
   "outputs": [],
   "source": [
    "rect.height = 3"
   ]
  },
  {
   "cell_type": "code",
   "execution_count": 38,
   "id": "29075f1b",
   "metadata": {},
   "outputs": [
    {
     "data": {
      "text/plain": [
       "3"
      ]
     },
     "execution_count": 38,
     "metadata": {},
     "output_type": "execute_result"
    }
   ],
   "source": [
    "rect.height"
   ]
  },
  {
   "cell_type": "code",
   "execution_count": 52,
   "id": "4fd06bc1",
   "metadata": {},
   "outputs": [
    {
     "name": "stdout",
     "output_type": "stream",
     "text": [
      "5435, 6,767i\n",
      "{'a': 3}\n",
      "()\n"
     ]
    }
   ],
   "source": [
    "def F(name, *kwds, **args):\n",
    "    print(name)\n",
    "    print(args)\n",
    "    print(kwds)\n",
    "F(\"5435, 6,767i\", a=3)"
   ]
  },
  {
   "cell_type": "code",
   "execution_count": 55,
   "id": "88fba6ae",
   "metadata": {},
   "outputs": [
    {
     "data": {
      "text/plain": [
       "['__class__',\n",
       " '__delattr__',\n",
       " '__dict__',\n",
       " '__dir__',\n",
       " '__doc__',\n",
       " '__eq__',\n",
       " '__format__',\n",
       " '__ge__',\n",
       " '__getattribute__',\n",
       " '__gt__',\n",
       " '__hash__',\n",
       " '__init__',\n",
       " '__init_subclass__',\n",
       " '__le__',\n",
       " '__lt__',\n",
       " '__module__',\n",
       " '__ne__',\n",
       " '__new__',\n",
       " '__reduce__',\n",
       " '__reduce_ex__',\n",
       " '__repr__',\n",
       " '__setattr__',\n",
       " '__sizeof__',\n",
       " '__str__',\n",
       " '__subclasshook__',\n",
       " '__weakref__',\n",
       " 'area',\n",
       " 'height',\n",
       " 'width']"
      ]
     },
     "execution_count": 55,
     "metadata": {},
     "output_type": "execute_result"
    }
   ],
   "source": [
    "dir(Rectangle)"
   ]
  },
  {
   "cell_type": "code",
   "execution_count": 56,
   "id": "12db8967",
   "metadata": {},
   "outputs": [
    {
     "name": "stdout",
     "output_type": "stream",
     "text": [
      "car braking\n",
      "I'm driving a blue car!\n",
      "I'm driving a red truck!\n",
      "truck braking\n"
     ]
    }
   ],
   "source": [
    "class Vehicle(object):\n",
    "    \"\"\"docstring\"\"\"\n",
    "    \n",
    "    def __init__(self, color, doors, tires, vtype):\n",
    "        \"\"\"Constructor\"\"\"\n",
    "        self.color = color\n",
    "        self.doors = doors\n",
    "        self.tires = tires\n",
    "        self.vtype = vtype\n",
    "    \n",
    "    def brake(self):\n",
    "        \"\"\"\n",
    "        Stop the car\n",
    "        \"\"\"\n",
    "        return \"%s braking\" % self.vtype\n",
    "    \n",
    "    def drive(self):\n",
    "        \"\"\"\n",
    "        Drive the car\n",
    "        \"\"\"\n",
    "        return \"I'm driving a %s %s!\" % (self.color, self.vtype)\n",
    "\n",
    "\n",
    "if __name__ == \"__main__\":\n",
    "    car = Vehicle(\"blue\", 5, 4, \"car\")\n",
    "    print(car.brake())\n",
    "    print(car.drive())\n",
    "\n",
    "    truck = Vehicle(\"red\", 3, 6, \"truck\")\n",
    "    print(truck.drive())\n",
    "    print(truck.brake())"
   ]
  },
  {
   "cell_type": "code",
   "execution_count": 94,
   "id": "dc521020",
   "metadata": {},
   "outputs": [],
   "source": [
    "class zhiga(Vehicle):\n",
    "    def __init__(self,  color, doors, tires, vtype, tonir=\"Black\"):\n",
    "        super().__init__(color, doors, tires, vtype)\n",
    "        self._tonir = tonir\n",
    "        \n",
    "    def drive(self):\n",
    "        print(super().drive())\n",
    "        return \"Tonirovka %s\" % (self._tonir) + \" no one Stop MEE\"\n",
    "v9 = zhiga(\"blue\", 5, 4, \"car\", \"white\")"
   ]
  },
  {
   "cell_type": "code",
   "execution_count": 95,
   "id": "1aac2e73",
   "metadata": {},
   "outputs": [
    {
     "name": "stdout",
     "output_type": "stream",
     "text": [
      "I'm driving a blue car!\n",
      "Tonirovka white no one Stop MEE\n"
     ]
    }
   ],
   "source": [
    "print(v9.drive())"
   ]
  },
  {
   "cell_type": "code",
   "execution_count": null,
   "id": "f19ccf66",
   "metadata": {},
   "outputs": [],
   "source": []
  }
 ],
 "metadata": {
  "kernelspec": {
   "display_name": "Python 3 (ipykernel)",
   "language": "python",
   "name": "python3"
  },
  "language_info": {
   "codemirror_mode": {
    "name": "ipython",
    "version": 3
   },
   "file_extension": ".py",
   "mimetype": "text/x-python",
   "name": "python",
   "nbconvert_exporter": "python",
   "pygments_lexer": "ipython3",
   "version": "3.9.13"
  }
 },
 "nbformat": 4,
 "nbformat_minor": 5
}
