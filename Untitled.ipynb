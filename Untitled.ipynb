{
 "cells": [
  {
   "cell_type": "code",
   "execution_count": 1,
   "id": "936d9060",
   "metadata": {
    "scrolled": false
   },
   "outputs": [],
   "source": [
    "import torch\n",
    "import torch.nn as nn\n",
    "import numpy as np\n",
    "import matplotlib\n",
    "import matplotlib.pyplot as plt\n",
    "from PIL import Image\n",
    "from numpy import array"
   ]
  },
  {
   "cell_type": "code",
   "execution_count": 2,
   "id": "1601bff3",
   "metadata": {},
   "outputs": [
    {
     "data": {
      "text/plain": [
       "<matplotlib.image.AxesImage at 0x19e4ef2a9d0>"
      ]
     },
     "execution_count": 2,
     "metadata": {},
     "output_type": "execute_result"
    },
    {
     "data": {
      "image/png": "[encoded data removed]",
      "text/plain": [
       "<Figure size 640x480 with 1 Axes>"
      ]
     },
     "metadata": {},
     "output_type": "display_data"
    }
   ],
   "source": [
    "img = plt.imread(\"mnist_png/training/0/1.png\")\n",
    "plt.imshow(img, cmap=\"gray\")"
   ]
  },
  {
   "cell_type": "code",
   "execution_count": 3,
   "id": "7ab9df87",
   "metadata": {},
   "outputs": [],
   "source": [
    "import os\n",
    "paths = []\n",
    "data = []"
   ]
  },
  {
   "cell_type": "code",
   "execution_count": 4,
   "id": "cab21ed4",
   "metadata": {},
   "outputs": [
    {
     "name": "stdout",
     "output_type": "stream",
     "text": [
      "[  0   0   0   0   0   0   0   0   0   0   0   0   0   0   0   0   0   0\n",
      "   0   0   0   0   0   0   0   0   0   0   0   0   0   0   0   0   0   0\n",
      "   0   0   0   0   0   0   0   0   0   0   0   0   0   0   0   0   0   0\n",
      "   0   0   0   0   0   0   0   0   0   0   0   0   0   0   0   0   0   0\n",
      "   0   0   0   0   0   0   0   0   0   0   0   0   0   0   0   0   0   0\n",
      "   0   0   0   0   0   0   0   0   0   0   0   0   0   0   0   0   0   0\n",
      "   0   0   0   0   0   0   0   0   0   0   0   0   0   0   0   0   0   0\n",
      "   0   0   0   0   0   0   0   0   0   0   0   0   0   0   0   0   0   0\n",
      "   0   0   0   0   0   0   0   0   0   0   0   0   0   0   0   0   0   0\n",
      "   0   0   0   0   0   0   0   0   0   0   0   0   0   0   0   0   0  60\n",
      " 158 249 255 225 106  13   0   0   0   0   0   0   0   0   0   0   0   0\n",
      "   0   0   0   0   0   0   0   0 140 248 254 254 254 254 254 146   0   0\n",
      "   0   0   0   0   0   0   0   0   0   0   0   0   0   0   0   0   0 135\n",
      " 251 254 254 254 214 224 254 251 187  52   0   0   0   0   0   0   0   0\n",
      "   0   0   0   0   0   0   0   0  15 225 254 249 165   9   3  32 242 254\n",
      " 254 120   0   0   0   0   0   0   0   0   0   0   0   0   0   0   0   0\n",
      "  70 254 254 152   0   0   0   0 235 254 254 111   0   0   0   0   0   0\n",
      "   0   0   0   0   0   0   0   0   0   0  52 254 254 138   0   0   0  89\n",
      " 248 254 229  16   0   0   0   0   0   0   0   0   0   0   0   0   0   0\n",
      "   0   0  20 239 254 199  36  51 101 251 254 254 126   0   0   0   0   0\n",
      "   0   0   0   0   0   0   0   0   0   0   0   0   0 175 254 254 240 251\n",
      " 254 254 254 246  15   0   0   0   0   0   0   0   0   0   0   0   0   0\n",
      "   0   0   0   0   0  26 216 254 254 254 254 254 254 213   0   0   0   0\n",
      "   0   0   0   0   0   0   0   0   0   0   0   0   0   0   0   0  65 110\n",
      " 110 110 227 254 254  94   0   0   0   0   0   0   0   0   0   0   0   0\n",
      "   0   0   0   0   0   0   0   0   0   0   0  21 227 254 254  52   0   0\n",
      "   0   0   0   0   0   0   0   0   0   0   0   0   0   0   0   0   0   0\n",
      "   0   0   0  49 254 254 224  17   0   0   0   0   0   0   0   0   0   0\n",
      "   0   0   0   0   0   0   0   0   0   0   0   0   0 153 254 254 157   0\n",
      "   0   0   0   0   0   0   0   0   0   0   0   0   0   0   0   0   0   0\n",
      "   0   0   0   0  35 246 254 254  38   0   0   0   0   0   0   0   0   0\n",
      "   0   0   0   0   0   0   0   0   0   0   0   0   0   0  82 254 254 254\n",
      "  19   0   0   0   0   0   0   0   0   0   0   0   0   0   0   0   0   0\n",
      "   0   0   0   0   0   0  97 254 254 184   2   0   0   0   0   0   0   0\n",
      "   0   0   0   0   0   0   0   0   0   0   0   0   0   0   0  10 208 254\n",
      " 253 137   0   0   0   0   0   0   0   0   0   0   0   0   0   0   0   0\n",
      "   0   0   0   0   0   0   0 116 254 254 239   0   0   0   0   0   0   0\n",
      "   0   0   0   0   0   0   0   0   0   0   0   0   0   0   0   0   0 116\n",
      " 254 254 226   0   0   0   0   0   0   0   0   0   0   0   0   0   0   0\n",
      "   0   0   0   0   0   0   0   0   0  36 188 235  90   0   0   0   0   0\n",
      "   0   0   0   0   0   0   0   0   0   0   0   0   0   0   0   0   0   0\n",
      "   0   0   0   0   0   0   0   0   0   0   0   0   0   0   0   0   0   0\n",
      "   0   0   0   0   0   0   0   0   0   0   0   0   0   0   0   0   0   0\n",
      "   0   0   0   0   0   0   0   0   0   0]\n"
     ]
    }
   ],
   "source": [
    "import numpy as np\n",
    "for i in range(10):\n",
    "    counter = 0\n",
    "    paths = os.listdir(\"mnist_png/training/\" + str(i))\n",
    "    for j in paths:\n",
    "        name = \"mnist_png/training/\" + str(i) + \"/\" + j\n",
    "        im_frame = Image.open(name)\n",
    "        np_frame = np.array(im_frame.getdata())\n",
    "        counter += 1\n",
    "        data.append(np_frame)\n",
    "        if counter >= 100:\n",
    "            break\n",
    "ndata = np.array(data)\n",
    "print(np_frame)\n"
   ]
  },
  {
   "cell_type": "code",
   "execution_count": 5,
   "id": "de1fc0fb",
   "metadata": {},
   "outputs": [
    {
     "name": "stdout",
     "output_type": "stream",
     "text": [
      "(1000, 784)\n"
     ]
    }
   ],
   "source": [
    "print(ndata.shape)"
   ]
  },
  {
   "cell_type": "code",
   "execution_count": 6,
   "id": "3b033920",
   "metadata": {
    "scrolled": true
   },
   "outputs": [],
   "source": [
    "class NEURO(nn.Module):\n",
    "    def __init__(self):\n",
    "        super(NEURO, self).__init__()\n",
    "        self.l1 = nn.Linear(784,256)\n",
    "        self.l2 = nn.Linear(256,256)\n",
    "        self.l3 = nn.Linear(256,10)\n",
    "        \n",
    "    def neuron_movement(self, x):\n",
    "        out = F.relu(self.l1(out))\n",
    "        out = F.relu(self.l2(out))\n",
    "        out = self.l3(out)\n",
    "        return out"
   ]
  },
  {
   "cell_type": "code",
   "execution_count": 7,
   "id": "c2b7ee94",
   "metadata": {},
   "outputs": [
    {
     "name": "stdout",
     "output_type": "stream",
     "text": [
      "NEURO(\n",
      "  (l1): Linear(in_features=784, out_features=256, bias=True)\n",
      "  (l2): Linear(in_features=256, out_features=256, bias=True)\n",
      "  (l3): Linear(in_features=256, out_features=10, bias=True)\n",
      ")\n"
     ]
    }
   ],
   "source": [
    "net = NEURO()\n",
    "print(NEURO())"
   ]
  },
  {
   "cell_type": "code",
   "execution_count": 16,
   "id": "5785bdcd",
   "metadata": {},
   "outputs": [],
   "source": [
    "for age in range(10):\n",
    "    error = 0.0\n",
    "    for i in range(len(ndata)):\n",
    "        inputs = torch.Tensor(ndata[i])\n",
    "        inputs\n",
    "        "
   ]
  },
  {
   "cell_type": "code",
   "execution_count": null,
   "id": "12404f8c",
   "metadata": {},
   "outputs": [],
   "source": []
  }
 ],
 "metadata": {
  "kernelspec": {
   "display_name": "Python 3 (ipykernel)",
   "language": "python",
   "name": "python3"
  },
  "language_info": {
   "codemirror_mode": {
    "name": "ipython",
    "version": 3
   },
   "file_extension": ".py",
   "mimetype": "text/x-python",
   "name": "python",
   "nbconvert_exporter": "python",
   "pygments_lexer": "ipython3",
   "version": "3.9.13"
  }
 },
 "nbformat": 4,
 "nbformat_minor": 5
}
